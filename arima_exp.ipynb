{
 "cells": [
  {
   "cell_type": "markdown",
   "metadata": {},
   "source": [
    "### 필요 라이브러리 설치"
   ]
  },
  {
   "cell_type": "code",
   "execution_count": 1,
   "metadata": {},
   "outputs": [
    {
     "name": "stdout",
     "output_type": "stream",
     "text": [
      "Defaulting to user installation because normal site-packages is not writeable\n",
      "Collecting statsmodels\n",
      "  Using cached statsmodels-0.14.2-cp311-cp311-win_amd64.whl.metadata (9.5 kB)\n",
      "Requirement already satisfied: numpy>=1.22.3 in c:\\users\\kwanhokim\\appdata\\roaming\\python\\python311\\site-packages (from statsmodels) (2.1.1)\n",
      "Requirement already satisfied: scipy!=1.9.2,>=1.8 in c:\\users\\kwanhokim\\appdata\\roaming\\python\\python311\\site-packages (from statsmodels) (1.14.1)\n",
      "Requirement already satisfied: pandas!=2.1.0,>=1.4 in c:\\users\\kwanhokim\\appdata\\roaming\\python\\python311\\site-packages (from statsmodels) (2.2.2)\n",
      "Collecting patsy>=0.5.6 (from statsmodels)\n",
      "  Using cached patsy-0.5.6-py2.py3-none-any.whl.metadata (3.5 kB)\n",
      "Requirement already satisfied: packaging>=21.3 in c:\\programdata\\anaconda3\\envs\\class_1\\lib\\site-packages (from statsmodels) (24.1)\n",
      "Requirement already satisfied: python-dateutil>=2.8.2 in c:\\programdata\\anaconda3\\envs\\class_1\\lib\\site-packages (from pandas!=2.1.0,>=1.4->statsmodels) (2.9.0.post0)\n",
      "Requirement already satisfied: pytz>=2020.1 in c:\\users\\kwanhokim\\appdata\\roaming\\python\\python311\\site-packages (from pandas!=2.1.0,>=1.4->statsmodels) (2024.1)\n",
      "Requirement already satisfied: tzdata>=2022.7 in c:\\users\\kwanhokim\\appdata\\roaming\\python\\python311\\site-packages (from pandas!=2.1.0,>=1.4->statsmodels) (2024.1)\n",
      "Requirement already satisfied: six in c:\\programdata\\anaconda3\\envs\\class_1\\lib\\site-packages (from patsy>=0.5.6->statsmodels) (1.16.0)\n",
      "Using cached statsmodels-0.14.2-cp311-cp311-win_amd64.whl (9.9 MB)\n",
      "Using cached patsy-0.5.6-py2.py3-none-any.whl (233 kB)\n",
      "Installing collected packages: patsy, statsmodels\n",
      "Successfully installed patsy-0.5.6 statsmodels-0.14.2\n"
     ]
    }
   ],
   "source": [
    "!pip instdall statsmodels"
   ]
  },
  {
   "cell_type": "markdown",
   "metadata": {},
   "source": [
    "### 필요 라이브러리 import"
   ]
  },
  {
   "cell_type": "code",
   "execution_count": 2,
   "metadata": {},
   "outputs": [],
   "source": [
    "import FinanceDataReader as fdr\n",
    "import pandas as pd\n",
    "import numpy as np\n",
    "\n",
    "import matplotlib.pyplot as plt\n",
    "from statsmodels.tsa.arima.model import ARIMA\n"
   ]
  },
  {
   "cell_type": "markdown",
   "metadata": {},
   "source": [
    "### 삼성전자 주가 가져오기"
   ]
  },
  {
   "cell_type": "code",
   "execution_count": 14,
   "metadata": {},
   "outputs": [
    {
     "name": "stdout",
     "output_type": "stream",
     "text": [
      "<class 'pandas.core.frame.DataFrame'>\n",
      "DatetimeIndex: 261 entries, 2023-03-02 to 2024-03-22\n",
      "Data columns (total 6 columns):\n",
      " #   Column  Non-Null Count  Dtype  \n",
      "---  ------  --------------  -----  \n",
      " 0   Open    261 non-null    int64  \n",
      " 1   High    261 non-null    int64  \n",
      " 2   Low     261 non-null    int64  \n",
      " 3   Close   261 non-null    int64  \n",
      " 4   Volume  261 non-null    int64  \n",
      " 5   Change  261 non-null    float64\n",
      "dtypes: float64(1), int64(5)\n",
      "memory usage: 14.3 KB\n",
      "<class 'pandas.core.frame.DataFrame'>\n",
      "DatetimeIndex: 5 entries, 2024-03-25 to 2024-03-29\n",
      "Data columns (total 6 columns):\n",
      " #   Column  Non-Null Count  Dtype  \n",
      "---  ------  --------------  -----  \n",
      " 0   Open    5 non-null      int64  \n",
      " 1   High    5 non-null      int64  \n",
      " 2   Low     5 non-null      int64  \n",
      " 3   Close   5 non-null      int64  \n",
      " 4   Volume  5 non-null      int64  \n",
      " 5   Change  5 non-null      float64\n",
      "dtypes: float64(1), int64(5)\n",
      "memory usage: 280.0 bytes\n"
     ]
    },
    {
     "data": {
      "text/html": [
       "<div>\n",
       "<style scoped>\n",
       "    .dataframe tbody tr th:only-of-type {\n",
       "        vertical-align: middle;\n",
       "    }\n",
       "\n",
       "    .dataframe tbody tr th {\n",
       "        vertical-align: top;\n",
       "    }\n",
       "\n",
       "    .dataframe thead th {\n",
       "        text-align: right;\n",
       "    }\n",
       "</style>\n",
       "<table border=\"1\" class=\"dataframe\">\n",
       "  <thead>\n",
       "    <tr style=\"text-align: right;\">\n",
       "      <th></th>\n",
       "      <th>Open</th>\n",
       "      <th>High</th>\n",
       "      <th>Low</th>\n",
       "      <th>Close</th>\n",
       "      <th>Volume</th>\n",
       "      <th>Change</th>\n",
       "    </tr>\n",
       "    <tr>\n",
       "      <th>Date</th>\n",
       "      <th></th>\n",
       "      <th></th>\n",
       "      <th></th>\n",
       "      <th></th>\n",
       "      <th></th>\n",
       "      <th></th>\n",
       "    </tr>\n",
       "  </thead>\n",
       "  <tbody>\n",
       "    <tr>\n",
       "      <th>2024-03-25</th>\n",
       "      <td>79600</td>\n",
       "      <td>79800</td>\n",
       "      <td>77800</td>\n",
       "      <td>78200</td>\n",
       "      <td>18703996</td>\n",
       "      <td>-0.008872</td>\n",
       "    </tr>\n",
       "    <tr>\n",
       "      <th>2024-03-26</th>\n",
       "      <td>79700</td>\n",
       "      <td>80100</td>\n",
       "      <td>79200</td>\n",
       "      <td>79900</td>\n",
       "      <td>30551494</td>\n",
       "      <td>0.021739</td>\n",
       "    </tr>\n",
       "    <tr>\n",
       "      <th>2024-03-27</th>\n",
       "      <td>79200</td>\n",
       "      <td>80000</td>\n",
       "      <td>79200</td>\n",
       "      <td>79800</td>\n",
       "      <td>17424595</td>\n",
       "      <td>-0.001252</td>\n",
       "    </tr>\n",
       "    <tr>\n",
       "      <th>2024-03-28</th>\n",
       "      <td>79400</td>\n",
       "      <td>81000</td>\n",
       "      <td>79200</td>\n",
       "      <td>80800</td>\n",
       "      <td>25084812</td>\n",
       "      <td>0.012531</td>\n",
       "    </tr>\n",
       "    <tr>\n",
       "      <th>2024-03-29</th>\n",
       "      <td>81200</td>\n",
       "      <td>82500</td>\n",
       "      <td>80900</td>\n",
       "      <td>82400</td>\n",
       "      <td>27126366</td>\n",
       "      <td>0.019802</td>\n",
       "    </tr>\n",
       "  </tbody>\n",
       "</table>\n",
       "</div>"
      ],
      "text/plain": [
       "             Open   High    Low  Close    Volume    Change\n",
       "Date                                                      \n",
       "2024-03-25  79600  79800  77800  78200  18703996 -0.008872\n",
       "2024-03-26  79700  80100  79200  79900  30551494  0.021739\n",
       "2024-03-27  79200  80000  79200  79800  17424595 -0.001252\n",
       "2024-03-28  79400  81000  79200  80800  25084812  0.012531\n",
       "2024-03-29  81200  82500  80900  82400  27126366  0.019802"
      ]
     },
     "execution_count": 14,
     "metadata": {},
     "output_type": "execute_result"
    }
   ],
   "source": [
    "# https://velog.io/@choonsik_mom/ARIMA-SARIMA-auto-ARIMA%EB%A1%9C-%EC%82%BC%EC%A0%84-%EC%A3%BC%EA%B0%80-%EC%98%88%EC%B8%A1%ED%95%98%EA%B8%B0\n",
    "# 김성범 교수님 arima 실습\n",
    "\n",
    "\n",
    "# df = fdr.DataReader('005930', '2023-01-01', '2024-02-28')\n",
    "df = fdr.DataReader('005930', '2023-03-01', '2024-03-29')\n",
    "# print(df)\n",
    "# df.tail(50)\n",
    "# df.plot()\n",
    "# fig = df['Close'].plot()\n",
    "\n",
    "# 기간 필터링\n",
    "demands = df.loc[df.index <= '2024-03-24']\n",
    "demands.info()\n",
    "demands\n",
    "\n",
    "test_demands = df.loc[df.index >= '2024-03-25']\n",
    "test_demands.info()\n",
    "test_demands"
   ]
  },
  {
   "cell_type": "code",
   "execution_count": 16,
   "metadata": {},
   "outputs": [],
   "source": [
    "demands = demands.loc[:,'Close']\n",
    "test_demands = test_demands.loc[:,'Close']"
   ]
  },
  {
   "cell_type": "code",
   "execution_count": 6,
   "metadata": {},
   "outputs": [
    {
     "name": "stdout",
     "output_type": "stream",
     "text": [
      "<class 'pandas.core.series.Series'>\n",
      "DatetimeIndex: 275 entries, 2023-01-02 to 2024-02-14\n",
      "Series name: Close\n",
      "Non-Null Count  Dtype\n",
      "--------------  -----\n",
      "275 non-null    int64\n",
      "dtypes: int64(1)\n",
      "memory usage: 4.3 KB\n",
      "<class 'pandas.core.series.Series'>\n",
      "DatetimeIndex: 10 entries, 2024-02-15 to 2024-02-28\n",
      "Series name: Close\n",
      "Non-Null Count  Dtype\n",
      "--------------  -----\n",
      "10 non-null     int64\n",
      "dtypes: int64(1)\n",
      "memory usage: 160.0 bytes\n"
     ]
    },
    {
     "data": {
      "text/plain": [
       "Date\n",
       "2024-02-15    73000\n",
       "2024-02-16    72800\n",
       "2024-02-19    73800\n",
       "2024-02-20    73300\n",
       "2024-02-21    73000\n",
       "2024-02-22    73100\n",
       "2024-02-23    72900\n",
       "2024-02-26    72800\n",
       "2024-02-27    72900\n",
       "2024-02-28    73200\n",
       "Name: Close, dtype: int64"
      ]
     },
     "execution_count": 6,
     "metadata": {},
     "output_type": "execute_result"
    }
   ],
   "source": [
    "# # 기간 필터링\n",
    "# demands = df.loc[(df.index >= '2023-01-01') & (df.index <= '2024-02-14')]\n",
    "# demands.info()\n",
    "# demands\n",
    "\n",
    "# test_demands = df.loc[(df.index >= '2024-02-15') & (df.index <= '2024-02-28')]\n",
    "# test_demands.info()\n",
    "# test_demands"
   ]
  },
  {
   "cell_type": "markdown",
   "metadata": {},
   "source": [
    "### 정상성 검증"
   ]
  },
  {
   "cell_type": "code",
   "execution_count": 76,
   "metadata": {},
   "outputs": [
    {
     "data": {
      "image/png": "[encoded data removed]",
      "text/plain": [
       "<Figure size 1200x400 with 2 Axes>"
      ]
     },
     "metadata": {},
     "output_type": "display_data"
    }
   ],
   "source": [
    "from statsmodels.graphics.tsaplots import plot_acf, plot_pacf\n",
    "\n",
    "fig, axes = plt.subplots(1, 2)\n",
    "fig.set_size_inches(12, 4)\n",
    "\n",
    "# ACF Plot\n",
    "plot_acf(demands.values, lags=30, ax=axes[0])\n",
    "# PACF Plot\n",
    "plot_pacf(demands.values, lags=30, ax=axes[1])\n",
    "\n",
    "for ax in axes:\n",
    "    ax.set_ylim(-0.5, 1.25)\n",
    "plt.show()"
   ]
  },
  {
   "cell_type": "code",
   "execution_count": 53,
   "metadata": {},
   "outputs": [],
   "source": [
    "# 1차 차분에 대한 결과\n",
    "diff = 1\n",
    "diff_1 = demands.diff(periods=diff).iloc[diff:]\n",
    "# diff_1.values"
   ]
  },
  {
   "cell_type": "code",
   "execution_count": 80,
   "metadata": {},
   "outputs": [
    {
     "name": "stdout",
     "output_type": "stream",
     "text": [
      "KPSS Stat: 0.71610\n",
      "p-value: 0.01\n",
      "Lags: 30\n"
     ]
    }
   ],
   "source": [
    "from statsmodels.tsa.stattools import kpss\n",
    "    \n",
    "stats, p_value, nlags, critical_values = kpss(demands.values, nlags=30)\n",
    "    \n",
    "print(f'KPSS Stat: {stats:.5f}')\n",
    "print(f'p-value: {p_value:.2f}') # p-value > 0.05 -> 정상성\n",
    "print(f'Lags: {nlags}')"
   ]
  },
  {
   "cell_type": "markdown",
   "metadata": {},
   "source": [
    "### arima 모델 학습"
   ]
  },
  {
   "cell_type": "code",
   "execution_count": 151,
   "metadata": {},
   "outputs": [
    {
     "name": "stdout",
     "output_type": "stream",
     "text": [
      "                               SARIMAX Results                                \n",
      "==============================================================================\n",
      "Dep. Variable:                      y   No. Observations:                  161\n",
      "Model:                          ARIMA   Log Likelihood               -1518.121\n",
      "Date:                Sun, 08 Sep 2024   AIC                           3040.242\n",
      "Time:                        16:40:01   BIC                           3046.404\n",
      "Sample:                             0   HQIC                          3042.744\n",
      "                                - 161                                         \n",
      "Covariance Type:                  opg                                         \n",
      "==============================================================================\n",
      "                 coef    std err          z      P>|z|      [0.025      0.975]\n",
      "------------------------------------------------------------------------------\n",
      "const       7.155e+04    245.669    291.257      0.000    7.11e+04     7.2e+04\n",
      "sigma2      9.312e+06    1.2e+06      7.742      0.000    6.95e+06    1.17e+07\n",
      "===================================================================================\n",
      "Ljung-Box (L1) (Q):                 140.50   Jarque-Bera (JB):                 1.79\n",
      "Prob(Q):                              0.00   Prob(JB):                         0.41\n",
      "Heteroskedasticity (H):               0.79   Skew:                             0.16\n",
      "Prob(H) (two-sided):                  0.40   Kurtosis:                         2.59\n",
      "===================================================================================\n",
      "\n",
      "Warnings:\n",
      "[1] Covariance matrix calculated using the outer product of gradients (complex-step).\n",
      "[71552.79503106 71552.79503106 71552.79503106 71552.79503106\n",
      " 71552.79503106]\n",
      "[78200, 79900, 79800, 80800, 82400]\n"
     ]
    }
   ],
   "source": [
    "# model = ARIMA(demands.values[250:], order=(2, 1, 5)) # BEST\n",
    "\n",
    "model = ARIMA(demands.values[100:], order=(0, 0, 0)) #, trend='t') # \n",
    "\n",
    "model_fit = model.fit()\n",
    "print(model_fit.summary())\n",
    "pred = model_fit.get_forecast(steps=len(test_demands))\n",
    "# print(pred)\n",
    "print(pred.predicted_mean)\n",
    "\n",
    "# print(pred.conf_int(alpha=0.95))\n",
    "# # print(pred.astype(int))\n",
    "print(test_demands.to_list())\n",
    "# # pred.conf_int(alpha=0.95)[:,0]\n",
    "# print(test_demands.index)\n",
    "\n",
    "\n"
   ]
  },
  {
   "cell_type": "markdown",
   "metadata": {},
   "source": [
    "### 결과 시각화"
   ]
  },
  {
   "cell_type": "code",
   "execution_count": 132,
   "metadata": {},
   "outputs": [
    {
     "data": {
      "image/png": "[encoded data removed]",
      "text/plain": [
       "<Figure size 1200x600 with 1 Axes>"
      ]
     },
     "metadata": {},
     "output_type": "display_data"
    }
   ],
   "source": [
    "import matplotlib.pyplot as plt\n",
    "\n",
    "fig, ax = plt.subplots(figsize=(12, 6))\n",
    "demands.tail(60).plot(ax =ax)\n",
    "ax.plot(test_demands.index, pred.predicted_mean, label='Prediction')\n",
    "ax.plot(test_demands.index, test_demands, label='Actual')\n",
    "ax.fill_between(test_demands.index, pred.conf_int(alpha=0.90)[:,0], pred.conf_int(alpha=0.90)[:,1], color='k', alpha=0.1, label='0.95 pred Interval')\n",
    "ax.legend(loc='upper left')\n",
    "plt.show()"
   ]
  },
  {
   "cell_type": "markdown",
   "metadata": {},
   "source": [
    "### hyperparameter 튜닝"
   ]
  },
  {
   "cell_type": "code",
   "execution_count": 130,
   "metadata": {},
   "outputs": [
    {
     "name": "stdout",
     "output_type": "stream",
     "text": [
      "ARIMA pdq : (0, 0, 0) n>> AIC : 6565.81\n",
      "ARIMA pdq : (0, 0, 0) c>> AIC : 5099.22\n",
      "ARIMA pdq : (0, 0, 0) t>> AIC : 7352.57\n",
      "ARIMA pdq : (0, 0, 0) ct>> AIC : 4845.5\n",
      "ARIMA pdq : (0, 0, 1) n>> AIC : 6213.95\n",
      "ARIMA pdq : (0, 0, 1) c>> AIC : 4822.53\n",
      "ARIMA pdq : (0, 0, 1) t>> AIC : 5813.9\n",
      "ARIMA pdq : (0, 0, 1) ct>> AIC : 4607.94\n",
      "ARIMA pdq : (0, 0, 2) n>> AIC : 5975.54\n",
      "ARIMA pdq : (0, 0, 2) c>> AIC : 4620.91\n"
     ]
    },
    {
     "name": "stderr",
     "output_type": "stream",
     "text": [
      "c:\\ProgramData\\anaconda3\\envs\\class_3\\lib\\site-packages\\statsmodels\\base\\model.py:607: ConvergenceWarning: Maximum Likelihood optimization failed to converge. Check mle_retvals\n",
      "  warnings.warn(\"Maximum Likelihood optimization failed to \"\n"
     ]
    },
    {
     "name": "stdout",
     "output_type": "stream",
     "text": [
      "ARIMA pdq : (0, 0, 2) t>> AIC : 5511.59\n",
      "ARIMA pdq : (0, 0, 2) ct>> AIC : 4465.38\n",
      "ARIMA pdq : (0, 1, 0) n>> AIC : 4299.27\n",
      "err\n",
      "ARIMA pdq : (0, 1, 0) t>> AIC : 4299.84\n",
      "err\n",
      "ARIMA pdq : (0, 1, 1) n>> AIC : 4301.26\n",
      "err\n",
      "ARIMA pdq : (0, 1, 1) t>> AIC : 4301.79\n",
      "err\n",
      "ARIMA pdq : (0, 1, 2) n>> AIC : 4303.25\n",
      "err\n",
      "ARIMA pdq : (0, 1, 2) t>> AIC : 4303.78\n",
      "err\n",
      "ARIMA pdq : (0, 2, 0) n>> AIC : 4457.48\n",
      "err\n",
      "err\n",
      "err\n",
      "ARIMA pdq : (0, 2, 1) n>> AIC : 4432.93\n",
      "err\n",
      "err\n",
      "err\n",
      "ARIMA pdq : (0, 2, 2) n>> AIC : 4428.15\n",
      "err\n",
      "err\n",
      "err\n",
      "ARIMA pdq : (1, 0, 0) n>> AIC : 4326.43\n",
      "ARIMA pdq : (1, 0, 0) c>> AIC : 4322.33\n",
      "ARIMA pdq : (1, 0, 0) t>> AIC : 4326.68\n",
      "ARIMA pdq : (1, 0, 0) ct>> AIC : 4314.3\n",
      "ARIMA pdq : (1, 0, 1) n>> AIC : 4328.26\n",
      "ARIMA pdq : (1, 0, 1) c>> AIC : 4323.96\n",
      "ARIMA pdq : (1, 0, 1) t>> AIC : 4328.58\n",
      "ARIMA pdq : (1, 0, 1) ct>> AIC : 4315.41\n",
      "ARIMA pdq : (1, 0, 2) n>> AIC : 4326.72\n",
      "ARIMA pdq : (1, 0, 2) c>> AIC : 4323.0\n"
     ]
    },
    {
     "name": "stderr",
     "output_type": "stream",
     "text": [
      "c:\\ProgramData\\anaconda3\\envs\\class_3\\lib\\site-packages\\statsmodels\\base\\model.py:607: ConvergenceWarning: Maximum Likelihood optimization failed to converge. Check mle_retvals\n",
      "  warnings.warn(\"Maximum Likelihood optimization failed to \"\n"
     ]
    },
    {
     "name": "stdout",
     "output_type": "stream",
     "text": [
      "ARIMA pdq : (1, 0, 2) t>> AIC : 4326.72\n",
      "ARIMA pdq : (1, 0, 2) ct>> AIC : 4315.49\n",
      "ARIMA pdq : (1, 1, 0) n>> AIC : 4301.26\n",
      "err\n",
      "ARIMA pdq : (1, 1, 0) t>> AIC : 4301.79\n",
      "err\n",
      "ARIMA pdq : (1, 1, 1) n>> AIC : 4303.26\n",
      "err\n",
      "ARIMA pdq : (1, 1, 1) t>> AIC : 4302.92\n",
      "err\n",
      "ARIMA pdq : (1, 1, 2) n>> AIC : 4304.71\n",
      "err\n",
      "ARIMA pdq : (1, 1, 2) t>> AIC : 4304.71\n",
      "err\n",
      "ARIMA pdq : (1, 2, 0) n>> AIC : 4438.2\n",
      "err\n",
      "err\n",
      "err\n",
      "ARIMA pdq : (1, 2, 1) n>> AIC : 4419.7\n",
      "err\n",
      "err\n",
      "err\n",
      "ARIMA pdq : (1, 2, 2) n>> AIC : 4423.82\n",
      "err\n",
      "err\n",
      "err\n",
      "ARIMA pdq : (2, 0, 0) n>> AIC : 4328.36\n",
      "ARIMA pdq : (2, 0, 0) c>> AIC : 4324.05\n",
      "ARIMA pdq : (2, 0, 0) t>> AIC : 4328.6\n",
      "ARIMA pdq : (2, 0, 0) ct>> AIC : 4315.59\n",
      "ARIMA pdq : (2, 0, 1) n>> AIC : 4329.76\n",
      "ARIMA pdq : (2, 0, 1) c>> AIC : 4325.26\n",
      "ARIMA pdq : (2, 0, 1) t>> AIC : 4336.66\n",
      "ARIMA pdq : (2, 0, 1) ct>> AIC : 4316.77\n"
     ]
    },
    {
     "name": "stderr",
     "output_type": "stream",
     "text": [
      "c:\\ProgramData\\anaconda3\\envs\\class_3\\lib\\site-packages\\statsmodels\\base\\model.py:607: ConvergenceWarning: Maximum Likelihood optimization failed to converge. Check mle_retvals\n",
      "  warnings.warn(\"Maximum Likelihood optimization failed to \"\n"
     ]
    },
    {
     "name": "stdout",
     "output_type": "stream",
     "text": [
      "ARIMA pdq : (2, 0, 2) n>> AIC : 4331.68\n",
      "ARIMA pdq : (2, 0, 2) c>> AIC : 4324.58\n"
     ]
    },
    {
     "name": "stderr",
     "output_type": "stream",
     "text": [
      "c:\\ProgramData\\anaconda3\\envs\\class_3\\lib\\site-packages\\statsmodels\\base\\model.py:607: ConvergenceWarning: Maximum Likelihood optimization failed to converge. Check mle_retvals\n",
      "  warnings.warn(\"Maximum Likelihood optimization failed to \"\n"
     ]
    },
    {
     "name": "stdout",
     "output_type": "stream",
     "text": [
      "ARIMA pdq : (2, 0, 2) t>> AIC : 4331.43\n",
      "ARIMA pdq : (2, 0, 2) ct>> AIC : 4317.32\n",
      "ARIMA pdq : (2, 1, 0) n>> AIC : 4303.28\n",
      "err\n",
      "ARIMA pdq : (2, 1, 0) t>> AIC : 4303.8\n",
      "err\n",
      "ARIMA pdq : (2, 1, 1) n>> AIC : 4304.71\n",
      "err\n",
      "ARIMA pdq : (2, 1, 1) t>> AIC : 4304.7\n",
      "err\n",
      "ARIMA pdq : (2, 1, 2) n>> AIC : 4306.8\n",
      "err\n",
      "ARIMA pdq : (2, 1, 2) t>> AIC : 4306.9\n",
      "err\n",
      "ARIMA pdq : (2, 2, 0) n>> AIC : 4438.47\n",
      "err\n",
      "err\n",
      "err\n"
     ]
    },
    {
     "name": "stderr",
     "output_type": "stream",
     "text": [
      "c:\\ProgramData\\anaconda3\\envs\\class_3\\lib\\site-packages\\statsmodels\\base\\model.py:607: ConvergenceWarning: Maximum Likelihood optimization failed to converge. Check mle_retvals\n",
      "  warnings.warn(\"Maximum Likelihood optimization failed to \"\n"
     ]
    },
    {
     "name": "stdout",
     "output_type": "stream",
     "text": [
      "ARIMA pdq : (2, 2, 1) n>> AIC : 4421.59\n",
      "err\n",
      "err\n",
      "err\n",
      "ARIMA pdq : (2, 2, 2) n>> AIC : 4423.7\n",
      "err\n",
      "err\n",
      "err\n"
     ]
    },
    {
     "name": "stderr",
     "output_type": "stream",
     "text": [
      "c:\\ProgramData\\anaconda3\\envs\\class_3\\lib\\site-packages\\statsmodels\\base\\model.py:607: ConvergenceWarning: Maximum Likelihood optimization failed to converge. Check mle_retvals\n",
      "  warnings.warn(\"Maximum Likelihood optimization failed to \"\n"
     ]
    }
   ],
   "source": [
    "import itertools\n",
    "\n",
    "p = range(0, 3)\n",
    "d = range(0, 3)\n",
    "q = range(0, 3)\n",
    "pdq = list(itertools.product(p, d, q))\n",
    "trend = ['n', 'c', 't', 'ct']\n",
    "\n",
    "AIC = []\n",
    "for i in pdq :\n",
    "    for t in trend:\n",
    "        try:\n",
    "            model = ARIMA(demands.values[0:], order=(i), trend=t)\n",
    "            model_fit = model.fit()\n",
    "            print(f'ARIMA pdq : {i} {t}>> AIC : {round(model_fit.aic, 2)}')\n",
    "            AIC.append(round(model_fit.aic, 2))\n",
    "        except:\n",
    "            print('err')"
   ]
  },
  {
   "cell_type": "markdown",
   "metadata": {},
   "source": [
    "### 평가"
   ]
  },
  {
   "cell_type": "code",
   "execution_count": 133,
   "metadata": {},
   "outputs": [
    {
     "name": "stdout",
     "output_type": "stream",
     "text": [
      "MSE: 3372726.9701725068\n",
      "MAE: 1545.1655892855954\n",
      "MAPE: 0.019563301242386515\n"
     ]
    }
   ],
   "source": [
    "from sklearn.metrics import mean_squared_error as MSE\n",
    "from sklearn.metrics import mean_absolute_error as MAE\n",
    "from sklearn.metrics import mean_absolute_percentage_error as MAPE\n",
    "\n",
    "\n",
    "print('MSE:', MSE(pred.predicted_mean, test_demands.to_list()))\n",
    "print('MAE:', MAE(pred.predicted_mean, test_demands.to_list()))\n",
    "print('MAPE:', MAPE(pred.predicted_mean, test_demands.to_list()))"
   ]
  },
  {
   "cell_type": "markdown",
   "metadata": {},
   "source": [
    "### 추가 samrima, auto arima"
   ]
  },
  {
   "cell_type": "code",
   "execution_count": 139,
   "metadata": {},
   "outputs": [
    {
     "name": "stderr",
     "output_type": "stream",
     "text": [
      "c:\\ProgramData\\anaconda3\\envs\\class_3\\lib\\site-packages\\statsmodels\\tsa\\statespace\\sarimax.py:966: UserWarning: Non-stationary starting autoregressive parameters found. Using zeros as starting parameters.\n",
      "  warn('Non-stationary starting autoregressive parameters'\n",
      "c:\\ProgramData\\anaconda3\\envs\\class_3\\lib\\site-packages\\statsmodels\\tsa\\statespace\\sarimax.py:978: UserWarning: Non-invertible starting MA parameters found. Using zeros as starting parameters.\n",
      "  warn('Non-invertible starting MA parameters found.'\n"
     ]
    },
    {
     "name": "stdout",
     "output_type": "stream",
     "text": [
      "[79098.4261262  79216.6583144  79360.61050666 79368.22332602\n",
      " 79280.32130681]\n"
     ]
    },
    {
     "data": {
      "image/png": "[encoded data removed]",
      "text/plain": [
       "<Figure size 1200x600 with 1 Axes>"
      ]
     },
     "metadata": {},
     "output_type": "display_data"
    }
   ],
   "source": [
    "from statsmodels.tsa.arima.model import ARIMA\n",
    "from statsmodels.tsa.statespace.sarimax import SARIMAX\n",
    "\n",
    "model = ARIMA(demands[200:].values, order=(5, 1, 2))\n",
    "# model = SARIMAX(demands.values, \n",
    "#                 order=(2, 1, 3), \n",
    "#                 season_order = (2, 1, 2, 3)).fit(disp=False)\n",
    "model_fit = model.fit()\n",
    "# print(model_fit.summary())\n",
    "\n",
    "pred = model_fit.get_forecast(steps=len(test_demands))\n",
    "# pred = model_fit.predict(start=1)\n",
    "\n",
    "# pred = auto_arima_model.predict(len(test_demands), return_conf_int=True)\n",
    "# print(pred)\n",
    "print(pred.predicted_mean)\n",
    "# print(pred.conf_int(alpha=0.95))\n",
    "# # print(pred.astype(int))\n",
    "# print(test_demands.to_list())\n",
    "# # pred.conf_int(alpha=0.95)[:,0]\n",
    "\n",
    "import matplotlib.pyplot as plt\n",
    "\n",
    "fig, ax = plt.subplots(figsize=(12, 6))\n",
    "demands.tail(50).plot(ax =ax)\n",
    "ax.plot(test_demands.index, pred.predicted_mean, label='Prediction')\n",
    "ax.plot(test_demands.index, test_demands, label='Actual')\n",
    "ax.fill_between(test_demands.index, pred.conf_int(alpha=0.95)[:,0], pred.conf_int(alpha=0.95)[:,1], color='k', alpha=0.1, label='0.95 pred Interval')\n",
    "ax.legend(loc='upper left')\n",
    "plt.show()"
   ]
  },
  {
   "cell_type": "code",
   "execution_count": 238,
   "metadata": {},
   "outputs": [
    {
     "name": "stdout",
     "output_type": "stream",
     "text": [
      "Collecting pmdarima\n",
      "  Downloading pmdarima-2.0.4-cp312-cp312-win_amd64.whl.metadata (8.0 kB)\n",
      "Requirement already satisfied: joblib>=0.11 in c:\\projects\\io_ground\\io_ground_venv\\lib\\site-packages (from pmdarima) (1.4.2)\n",
      "Collecting Cython!=0.29.18,!=0.29.31,>=0.29 (from pmdarima)\n",
      "  Downloading Cython-3.0.10-cp312-cp312-win_amd64.whl.metadata (3.2 kB)\n",
      "Requirement already satisfied: numpy>=1.21.2 in c:\\projects\\io_ground\\io_ground_venv\\lib\\site-packages (from pmdarima) (1.26.4)\n",
      "Requirement already satisfied: pandas>=0.19 in c:\\projects\\io_ground\\io_ground_venv\\lib\\site-packages (from pmdarima) (2.2.2)\n",
      "Requirement already satisfied: scikit-learn>=0.22 in c:\\projects\\io_ground\\io_ground_venv\\lib\\site-packages (from pmdarima) (1.5.1)\n",
      "Requirement already satisfied: scipy>=1.3.2 in c:\\projects\\io_ground\\io_ground_venv\\lib\\site-packages (from pmdarima) (1.14.0)\n",
      "Requirement already satisfied: statsmodels>=0.13.2 in c:\\projects\\io_ground\\io_ground_venv\\lib\\site-packages (from pmdarima) (0.14.2)\n",
      "Requirement already satisfied: urllib3 in c:\\projects\\io_ground\\io_ground_venv\\lib\\site-packages (from pmdarima) (2.2.1)\n",
      "Collecting setuptools!=50.0.0,>=38.6.0 (from pmdarima)\n",
      "  Downloading setuptools-72.0.0-py3-none-any.whl.metadata (6.6 kB)\n",
      "Requirement already satisfied: packaging>=17.1 in c:\\projects\\io_ground\\io_ground_venv\\lib\\site-packages (from pmdarima) (24.0)\n",
      "Requirement already satisfied: python-dateutil>=2.8.2 in c:\\projects\\io_ground\\io_ground_venv\\lib\\site-packages (from pandas>=0.19->pmdarima) (2.9.0.post0)\n",
      "Requirement already satisfied: pytz>=2020.1 in c:\\projects\\io_ground\\io_ground_venv\\lib\\site-packages (from pandas>=0.19->pmdarima) (2024.1)\n",
      "Requirement already satisfied: tzdata>=2022.7 in c:\\projects\\io_ground\\io_ground_venv\\lib\\site-packages (from pandas>=0.19->pmdarima) (2024.1)\n",
      "Requirement already satisfied: threadpoolctl>=3.1.0 in c:\\projects\\io_ground\\io_ground_venv\\lib\\site-packages (from scikit-learn>=0.22->pmdarima) (3.5.0)\n",
      "Requirement already satisfied: patsy>=0.5.6 in c:\\projects\\io_ground\\io_ground_venv\\lib\\site-packages (from statsmodels>=0.13.2->pmdarima) (0.5.6)\n",
      "Requirement already satisfied: six in c:\\projects\\io_ground\\io_ground_venv\\lib\\site-packages (from patsy>=0.5.6->statsmodels>=0.13.2->pmdarima) (1.16.0)\n",
      "Downloading pmdarima-2.0.4-cp312-cp312-win_amd64.whl (625 kB)\n",
      "   ---------------------------------------- 0.0/625.1 kB ? eta -:--:--\n",
      "   --------------------------------------- 625.1/625.1 kB 41.0 MB/s eta 0:00:00\n",
      "Downloading Cython-3.0.10-cp312-cp312-win_amd64.whl (2.8 MB)\n",
      "   ---------------------------------------- 0.0/2.8 MB ? eta -:--:--\n",
      "   ---------------------------------------  2.8/2.8 MB 59.3 MB/s eta 0:00:01\n",
      "   ---------------------------------------- 2.8/2.8 MB 44.2 MB/s eta 0:00:00\n",
      "Downloading setuptools-72.0.0-py3-none-any.whl (2.3 MB)\n",
      "   ---------------------------------------- 0.0/2.3 MB ? eta -:--:--\n",
      "   ---------------------------------------- 2.3/2.3 MB 75.1 MB/s eta 0:00:00\n",
      "Installing collected packages: setuptools, Cython, pmdarima\n",
      "Successfully installed Cython-3.0.10 pmdarima-2.0.4 setuptools-72.0.0\n"
     ]
    }
   ],
   "source": [
    "!pip install pmdarima"
   ]
  },
  {
   "cell_type": "code",
   "execution_count": 239,
   "metadata": {},
   "outputs": [
    {
     "name": "stdout",
     "output_type": "stream",
     "text": [
      " ARIMA(0,1,0)(0,1,0)[3]             : AIC=8772.288, Time=0.02 sec\n",
      " ARIMA(0,1,0)(0,1,1)[3]             : AIC=8681.081, Time=0.97 sec\n",
      " ARIMA(0,1,0)(0,1,2)[3]             : AIC=8662.806, Time=1.83 sec\n",
      " ARIMA(0,1,0)(0,1,3)[3]             : AIC=8664.668, Time=2.49 sec\n",
      " ARIMA(0,1,0)(1,1,0)[3]             : AIC=8716.247, Time=0.26 sec\n",
      " ARIMA(0,1,0)(1,1,1)[3]             : AIC=8664.349, Time=1.53 sec\n",
      " ARIMA(0,1,0)(1,1,2)[3]             : AIC=8664.496, Time=3.00 sec\n",
      " ARIMA(0,1,0)(1,1,3)[3]             : AIC=inf, Time=3.02 sec\n",
      " ARIMA(0,1,0)(2,1,0)[3]             : AIC=8683.862, Time=0.36 sec\n",
      " ARIMA(0,1,0)(2,1,1)[3]             : AIC=8665.669, Time=1.55 sec\n",
      " ARIMA(0,1,0)(2,1,2)[3]             : AIC=8668.173, Time=3.28 sec\n",
      " ARIMA(0,1,0)(2,1,3)[3]             : AIC=inf, Time=3.98 sec\n",
      " ARIMA(0,1,0)(3,1,0)[3]             : AIC=8668.480, Time=1.30 sec\n",
      " ARIMA(0,1,0)(3,1,1)[3]             : AIC=inf, Time=3.21 sec\n",
      " ARIMA(0,1,0)(3,1,2)[3]             : AIC=inf, Time=4.40 sec\n",
      " ARIMA(0,1,1)(0,1,0)[3]             : AIC=8770.759, Time=0.15 sec\n",
      " ARIMA(0,1,1)(0,1,1)[3]             : AIC=8681.350, Time=1.10 sec\n",
      " ARIMA(0,1,1)(0,1,2)[3]             : AIC=8663.031, Time=1.53 sec\n",
      " ARIMA(0,1,1)(0,1,3)[3]             : AIC=8664.913, Time=2.26 sec\n",
      " ARIMA(0,1,1)(1,1,0)[3]             : AIC=8716.007, Time=0.27 sec\n",
      " ARIMA(0,1,1)(1,1,1)[3]             : AIC=inf, Time=2.01 sec\n",
      " ARIMA(0,1,1)(1,1,2)[3]             : AIC=8664.756, Time=4.01 sec\n",
      " ARIMA(0,1,1)(1,1,3)[3]             : AIC=inf, Time=4.11 sec\n",
      " ARIMA(0,1,1)(2,1,0)[3]             : AIC=8668.283, Time=1.31 sec\n",
      " ARIMA(0,1,1)(2,1,1)[3]             : AIC=8669.797, Time=4.19 sec\n",
      " ARIMA(0,1,1)(2,1,2)[3]             : AIC=inf, Time=4.07 sec\n",
      " ARIMA(0,1,1)(3,1,0)[3]             : AIC=8668.765, Time=1.90 sec\n",
      " ARIMA(0,1,1)(3,1,1)[3]             : AIC=inf, Time=4.01 sec\n",
      " ARIMA(0,1,2)(0,1,0)[3]             : AIC=8765.211, Time=0.25 sec\n",
      " ARIMA(0,1,2)(0,1,1)[3]             : AIC=8675.555, Time=1.55 sec\n",
      " ARIMA(0,1,2)(0,1,2)[3]             : AIC=8657.442, Time=1.93 sec\n",
      " ARIMA(0,1,2)(0,1,3)[3]             : AIC=8659.355, Time=3.70 sec\n",
      " ARIMA(0,1,2)(1,1,0)[3]             : AIC=8701.722, Time=1.32 sec\n",
      " ARIMA(0,1,2)(1,1,1)[3]             : AIC=inf, Time=2.89 sec\n",
      " ARIMA(0,1,2)(1,1,2)[3]             : AIC=8677.839, Time=1.75 sec\n",
      " ARIMA(0,1,2)(2,1,0)[3]             : AIC=8662.892, Time=1.67 sec\n",
      " ARIMA(0,1,2)(2,1,1)[3]             : AIC=8663.611, Time=3.37 sec\n",
      " ARIMA(0,1,2)(3,1,0)[3]             : AIC=8663.276, Time=1.69 sec\n",
      " ARIMA(1,1,0)(0,1,0)[3]             : AIC=8771.316, Time=0.02 sec\n",
      " ARIMA(1,1,0)(0,1,1)[3]             : AIC=8681.613, Time=1.10 sec\n",
      " ARIMA(1,1,0)(0,1,2)[3]             : AIC=8682.053, Time=0.55 sec\n",
      " ARIMA(1,1,0)(0,1,3)[3]             : AIC=8684.052, Time=1.57 sec\n",
      " ARIMA(1,1,0)(1,1,0)[3]             : AIC=8716.607, Time=0.18 sec\n",
      " ARIMA(1,1,0)(1,1,1)[3]             : AIC=inf, Time=2.09 sec\n",
      " ARIMA(1,1,0)(1,1,2)[3]             : AIC=8665.551, Time=3.30 sec\n",
      " ARIMA(1,1,0)(1,1,3)[3]             : AIC=inf, Time=3.61 sec\n",
      " ARIMA(1,1,0)(2,1,0)[3]             : AIC=8686.729, Time=0.33 sec\n",
      " ARIMA(1,1,0)(2,1,1)[3]             : AIC=inf, Time=3.19 sec\n",
      " ARIMA(1,1,0)(2,1,2)[3]             : AIC=inf, Time=3.18 sec\n",
      " ARIMA(1,1,0)(3,1,0)[3]             : AIC=8669.023, Time=1.58 sec\n",
      " ARIMA(1,1,0)(3,1,1)[3]             : AIC=inf, Time=4.30 sec\n",
      " ARIMA(1,1,1)(0,1,0)[3]             : AIC=8772.101, Time=1.64 sec\n",
      " ARIMA(1,1,1)(0,1,1)[3]             : AIC=8672.074, Time=1.23 sec\n",
      " ARIMA(1,1,1)(0,1,2)[3]             : AIC=8659.783, Time=3.44 sec\n",
      " ARIMA(1,1,1)(0,1,3)[3]             : AIC=8663.148, Time=2.29 sec\n",
      " ARIMA(1,1,1)(1,1,0)[3]             : AIC=8700.189, Time=0.92 sec\n",
      " ARIMA(1,1,1)(1,1,1)[3]             : AIC=8661.327, Time=2.26 sec\n",
      " ARIMA(1,1,1)(1,1,2)[3]             : AIC=8663.117, Time=2.70 sec\n",
      " ARIMA(1,1,1)(2,1,0)[3]             : AIC=8666.778, Time=1.38 sec\n",
      " ARIMA(1,1,1)(2,1,1)[3]             : AIC=8662.336, Time=2.88 sec\n",
      " ARIMA(1,1,1)(3,1,0)[3]             : AIC=8666.921, Time=1.51 sec\n",
      " ARIMA(1,1,2)(0,1,0)[3]             : AIC=8724.204, Time=1.59 sec\n",
      " ARIMA(1,1,2)(0,1,1)[3]             : AIC=8669.647, Time=2.37 sec\n",
      " ARIMA(1,1,2)(0,1,2)[3]             : AIC=8659.667, Time=4.41 sec\n",
      " ARIMA(1,1,2)(1,1,0)[3]             : AIC=inf, Time=3.04 sec\n",
      " ARIMA(1,1,2)(1,1,1)[3]             : AIC=8660.935, Time=4.19 sec\n",
      " ARIMA(1,1,2)(2,1,0)[3]             : AIC=8666.443, Time=3.58 sec\n",
      " ARIMA(2,1,0)(0,1,0)[3]             : AIC=8761.836, Time=0.19 sec\n",
      " ARIMA(2,1,0)(0,1,1)[3]             : AIC=8692.278, Time=0.52 sec\n",
      " ARIMA(2,1,0)(0,1,2)[3]             : AIC=8675.455, Time=1.12 sec\n",
      " ARIMA(2,1,0)(0,1,3)[3]             : AIC=8659.399, Time=2.73 sec\n",
      " ARIMA(2,1,0)(1,1,0)[3]             : AIC=8709.675, Time=0.19 sec\n",
      " ARIMA(2,1,0)(1,1,1)[3]             : AIC=8659.207, Time=3.26 sec\n",
      " ARIMA(2,1,0)(1,1,2)[3]             : AIC=8659.817, Time=3.28 sec\n",
      " ARIMA(2,1,0)(2,1,0)[3]             : AIC=8662.892, Time=1.23 sec\n",
      " ARIMA(2,1,0)(2,1,1)[3]             : AIC=inf, Time=3.66 sec\n",
      " ARIMA(2,1,0)(3,1,0)[3]             : AIC=8663.330, Time=2.38 sec\n",
      " ARIMA(2,1,1)(0,1,0)[3]             : AIC=inf, Time=2.84 sec\n",
      " ARIMA(2,1,1)(0,1,1)[3]             : AIC=8670.656, Time=2.19 sec\n",
      " ARIMA(2,1,1)(0,1,2)[3]             : AIC=8660.467, Time=2.04 sec\n",
      " ARIMA(2,1,1)(1,1,0)[3]             : AIC=inf, Time=3.30 sec\n",
      " ARIMA(2,1,1)(1,1,1)[3]             : AIC=8662.018, Time=1.83 sec\n",
      " ARIMA(2,1,1)(2,1,0)[3]             : AIC=8665.849, Time=1.30 sec\n",
      " ARIMA(2,1,2)(0,1,0)[3]             : AIC=8722.284, Time=1.51 sec\n",
      " ARIMA(2,1,2)(0,1,1)[3]             : AIC=inf, Time=3.99 sec\n",
      " ARIMA(2,1,2)(1,1,0)[3]             : AIC=8692.153, Time=3.29 sec\n",
      "\n",
      "Best model:  ARIMA(0,1,2)(0,1,2)[3]          \n",
      "Total fit time: 187.590 seconds\n"
     ]
    }
   ],
   "source": [
    "from pmdarima.arima import auto_arima\n",
    "\n",
    "auto_arima_model = auto_arima(demands.values, start_p=1, start_q=1, \n",
    "                             max_p=3, max_1=3, m=3, seasonal=True, # sarima(seasonal=True)\n",
    "                             d=1, D=1,\n",
    "                             max_P=3, max_Q=3, \n",
    "                             trace=True,\n",
    "                             error_action='ignore',\n",
    "                             suppress_warnings=True, \n",
    "                             stepwise=False)"
   ]
  },
  {
   "cell_type": "code",
   "execution_count": 119,
   "metadata": {},
   "outputs": [
    {
     "name": "stdout",
     "output_type": "stream",
     "text": [
      "261    75736.512128\n",
      "262    75736.512128\n",
      "263    75736.512128\n",
      "264    75736.512128\n",
      "265    75736.512128\n",
      "dtype: float64\n"
     ]
    },
    {
     "name": "stderr",
     "output_type": "stream",
     "text": [
      "c:\\ProgramData\\anaconda3\\envs\\class_3\\lib\\site-packages\\statsmodels\\tsa\\base\\tsa_model.py:473: ValueWarning: A date index has been provided, but it has no associated frequency information and so will be ignored when e.g. forecasting.\n",
      "  self._init_dates(dates, freq)\n",
      "c:\\ProgramData\\anaconda3\\envs\\class_3\\lib\\site-packages\\pandas\\util\\_decorators.py:210: EstimationWarning: Model has no free parameters to estimate. Set optimized=False to suppress this warning\n",
      "  return func(*args, **kwargs)\n",
      "c:\\ProgramData\\anaconda3\\envs\\class_3\\lib\\site-packages\\statsmodels\\tsa\\base\\tsa_model.py:836: ValueWarning: No supported index is available. Prediction results will be given with an integer index beginning at `start`.\n",
      "  return get_prediction_index(\n",
      "c:\\ProgramData\\anaconda3\\envs\\class_3\\lib\\site-packages\\statsmodels\\tsa\\base\\tsa_model.py:836: FutureWarning: No supported index is available. In the next version, calling this method in a model without a supported index will result in an exception.\n",
      "  return get_prediction_index(\n"
     ]
    }
   ],
   "source": [
    "from statsmodels.tsa.holtwinters import (ExponentialSmoothing, \n",
    "                                         SimpleExpSmoothing, \n",
    "                                         Holt)\n",
    "\n",
    "ses_1 = SimpleExpSmoothing(demands).fit(smoothing_level=0.2)\n",
    "# test_length = 예측하고자 하는 기간\n",
    "ses_forecast_1 = ses_1.forecast(len(test_demands))\n",
    "print(ses_forecast_1)"
   ]
  },
  {
   "cell_type": "code",
   "execution_count": 120,
   "metadata": {},
   "outputs": [
    {
     "name": "stderr",
     "output_type": "stream",
     "text": [
      "C:\\Users\\KwanhoKIm\\AppData\\Local\\Temp\\ipykernel_20188\\1926448922.py:1: FutureWarning: the 'damped' keyword is deprecated, use 'damped_trend' instead.\n",
      "  hs_3 = Holt(demands, exponential = False, damped = True).fit(damping_slope = 0.99)\n",
      "c:\\ProgramData\\anaconda3\\envs\\class_3\\lib\\site-packages\\statsmodels\\tsa\\base\\tsa_model.py:473: ValueWarning: A date index has been provided, but it has no associated frequency information and so will be ignored when e.g. forecasting.\n",
      "  self._init_dates(dates, freq)\n",
      "c:\\ProgramData\\anaconda3\\envs\\class_3\\lib\\site-packages\\pandas\\util\\_decorators.py:210: FutureWarning: the 'damping_slope' keyword is deprecated, use 'damping_trend' instead.\n",
      "  return func(*args, **kwargs)\n",
      "c:\\ProgramData\\anaconda3\\envs\\class_3\\lib\\site-packages\\statsmodels\\tsa\\base\\tsa_model.py:836: ValueWarning: No supported index is available. Prediction results will be given with an integer index beginning at `start`.\n",
      "  return get_prediction_index(\n",
      "c:\\ProgramData\\anaconda3\\envs\\class_3\\lib\\site-packages\\statsmodels\\tsa\\base\\tsa_model.py:473: ValueWarning: A date index has been provided, but it has no associated frequency information and so will be ignored when e.g. forecasting.\n",
      "  self._init_dates(dates, freq)\n",
      "c:\\ProgramData\\anaconda3\\envs\\class_3\\lib\\site-packages\\statsmodels\\tsa\\base\\tsa_model.py:836: ValueWarning: No supported index is available. Prediction results will be given with an integer index beginning at `start`.\n",
      "  return get_prediction_index(\n"
     ]
    },
    {
     "data": {
      "text/plain": [
       "261    79035.931606\n",
       "262    79169.778457\n",
       "263    79303.851976\n",
       "264    79438.152549\n",
       "265    79572.680559\n",
       "dtype: float64"
      ]
     },
     "execution_count": 120,
     "metadata": {},
     "output_type": "execute_result"
    }
   ],
   "source": [
    "hs_3 = Holt(demands, exponential = False, damped = True).fit(damping_slope = 0.99)\n",
    "hs_forecast_3 = hs_3.forecast(len(test_demands))\n",
    "hs_forecast_3\n",
    "\n",
    "hs_2 = Holt(demands, exponential = True).fit()\n",
    "hs_forecast_2 = hs_2.forecast(len(test_demands))\n",
    "hs_forecast_2"
   ]
  },
  {
   "cell_type": "code",
   "execution_count": 121,
   "metadata": {},
   "outputs": [
    {
     "name": "stdout",
     "output_type": "stream",
     "text": [
      "MSE: 2265306.3433219\n",
      "MAE: 1250.2936129923764\n",
      "MAPE: 0.01574623178230878\n"
     ]
    }
   ],
   "source": [
    "from sklearn.metrics import mean_squared_error as MSE\n",
    "from sklearn.metrics import mean_absolute_error as MAE\n",
    "from sklearn.metrics import mean_absolute_percentage_error as MAPE\n",
    "\n",
    "print('MSE:', MSE(hs_forecast_2, test_demands.to_list()))\n",
    "print('MAE:', MAE(hs_forecast_2, test_demands.to_list()))\n",
    "print('MAPE:', MAPE(hs_forecast_2, test_demands.to_list()))"
   ]
  }
 ],
 "metadata": {
  "kernelspec": {
   "display_name": "io_ground_venv",
   "language": "python",
   "name": "python3"
  },
  "language_info": {
   "codemirror_mode": {
    "name": "ipython",
    "version": 3
   },
   "file_extension": ".py",
   "mimetype": "text/x-python",
   "name": "python",
   "nbconvert_exporter": "python",
   "pygments_lexer": "ipython3",
   "version": "3.8.19"
  }
 },
 "nbformat": 4,
 "nbformat_minor": 2
}
